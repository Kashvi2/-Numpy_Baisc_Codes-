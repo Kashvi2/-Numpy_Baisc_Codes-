{
 "cells": [
  {
   "cell_type": "code",
   "execution_count": 1,
   "id": "140c1f7d",
   "metadata": {},
   "outputs": [
    {
     "name": "stdout",
     "output_type": "stream",
     "text": [
      "hello world\n"
     ]
    }
   ],
   "source": [
    "print(\"hello world\")"
   ]
  },
  {
   "cell_type": "code",
   "execution_count": 2,
   "id": "78a4c3a7",
   "metadata": {},
   "outputs": [
    {
     "name": "stdout",
     "output_type": "stream",
     "text": [
      "Requirement already satisfied: numpy in c:\\users\\hp\\anaconda3\\lib\\site-packages (1.24.3)\n"
     ]
    }
   ],
   "source": [
    "!pip3 install numpy"
   ]
  },
  {
   "cell_type": "code",
   "execution_count": 3,
   "id": "4f5d78ad",
   "metadata": {},
   "outputs": [],
   "source": [
    "##We are going to learn numpy now!"
   ]
  },
  {
   "cell_type": "code",
   "execution_count": 4,
   "id": "dbfc6f98",
   "metadata": {},
   "outputs": [],
   "source": [
    "import numpy as np"
   ]
  },
  {
   "cell_type": "code",
   "execution_count": 5,
   "id": "4c30d690",
   "metadata": {},
   "outputs": [],
   "source": [
    "arr = np.array([[1,2,3],[4,5,6]])\n",
    "brr=np.array([1,2,3])\n",
    "#creating 1D array\n",
    "# creating 2D numpy array"
   ]
  },
  {
   "cell_type": "code",
   "execution_count": 6,
   "id": "b5b904e9",
   "metadata": {},
   "outputs": [
    {
     "name": "stdout",
     "output_type": "stream",
     "text": [
      "Type of arr <class 'numpy.ndarray'>\n",
      "Type of brr <class 'numpy.ndarray'>\n"
     ]
    }
   ],
   "source": [
    "print(\"Type of arr\",type(arr))\n",
    "print(\"Type of brr\",type(brr))"
   ]
  },
  {
   "cell_type": "code",
   "execution_count": 7,
   "id": "1b1390dc",
   "metadata": {},
   "outputs": [
    {
     "name": "stdout",
     "output_type": "stream",
     "text": [
      "Dimension of the 2D array:  2\n",
      "Dimension of the 1D array:  1\n"
     ]
    }
   ],
   "source": [
    "print(\"Dimension of the 2D array: \",arr.ndim)\n",
    "print(\"Dimension of the 1D array: \",brr.ndim)\n",
    "#dimendion of the numpy array"
   ]
  },
  {
   "cell_type": "code",
   "execution_count": 8,
   "id": "a65dc9af",
   "metadata": {},
   "outputs": [
    {
     "name": "stdout",
     "output_type": "stream",
     "text": [
      "shape of 2D array: (2, 3)\n",
      "shape of 1D array: (3,)\n"
     ]
    }
   ],
   "source": [
    "print(\"shape of 2D array:\",arr.shape)\n",
    "print(\"shape of 1D array:\",brr.shape)\n",
    "#shape of 2D array"
   ]
  },
  {
   "cell_type": "code",
   "execution_count": 9,
   "id": "c71fc7f5",
   "metadata": {},
   "outputs": [
    {
     "name": "stdout",
     "output_type": "stream",
     "text": [
      "Size of array: 6\n",
      "size of 1D array: 3\n"
     ]
    }
   ],
   "source": [
    "print(\"Size of array:\",arr.size)\n",
    "print(\"size of 1D array:\",brr.size)"
   ]
  },
  {
   "cell_type": "code",
   "execution_count": 13,
   "id": "b1d0e6f1",
   "metadata": {},
   "outputs": [
    {
     "name": "stdout",
     "output_type": "stream",
     "text": [
      "type of element: int32\n"
     ]
    }
   ],
   "source": [
    "#printing type of element array hold'\n",
    "print(\"type of element:\",arr.dtype)"
   ]
  },
  {
   "cell_type": "code",
   "execution_count": 14,
   "id": "678e6413",
   "metadata": {},
   "outputs": [],
   "source": [
    "#CREATING ARRAY IN NUMPY\n",
    "#FOUR WAYS:=\n",
    "#1> using list with element type\n",
    "#2> using tuple\n",
    "#3> using zeroes function\n",
    "#4> using full function\n",
    "\n"
   ]
  },
  {
   "cell_type": "code",
   "execution_count": 16,
   "id": "14a80ece",
   "metadata": {},
   "outputs": [
    {
     "name": "stdout",
     "output_type": "stream",
     "text": [
      "array created using list: [[1. 2. 3.]\n",
      " [5. 6. 7.]]\n"
     ]
    }
   ],
   "source": [
    "# creating array from list with float values\n",
    "a = np.array([[1,2,3],[5,6,7]],dtype='float')\n",
    "print(\"array created using list:\", a)"
   ]
  },
  {
   "cell_type": "code",
   "execution_count": 17,
   "id": "617d0216",
   "metadata": {},
   "outputs": [
    {
     "name": "stdout",
     "output_type": "stream",
     "text": [
      "array created using tuple: [1 2 3]\n"
     ]
    }
   ],
   "source": [
    "# creating array from tuple\n",
    "a = np.array((1,2,3))\n",
    "print(\"array created using tuple:\",a)"
   ]
  },
  {
   "cell_type": "code",
   "execution_count": 19,
   "id": "e18c4691",
   "metadata": {},
   "outputs": [
    {
     "name": "stdout",
     "output_type": "stream",
     "text": [
      "array with zeros: [[0. 0. 0. 0.]\n",
      " [0. 0. 0. 0.]\n",
      " [0. 0. 0. 0.]]\n"
     ]
    }
   ],
   "source": [
    "# creating a 3x4 array with zero values\n",
    "a = np.zeros((3,4))\n",
    "print(\"array with zeros:\",a)"
   ]
  },
  {
   "cell_type": "code",
   "execution_count": 21,
   "id": "da1d6d54",
   "metadata": {
    "scrolled": true
   },
   "outputs": [
    {
     "name": "stdout",
     "output_type": "stream",
     "text": [
      "array with constant value 6 and type complex: [[6.+0.j 6.+0.j 6.+0.j 6.+0.j]\n",
      " [6.+0.j 6.+0.j 6.+0.j 6.+0.j]\n",
      " [6.+0.j 6.+0.j 6.+0.j 6.+0.j]]\n"
     ]
    }
   ],
   "source": [
    "# creating a 3x4 array with constants values\n",
    "a = np.full((3,4),6,dtype='complex')\n",
    "print(\"array with constant value 6 and type complex:\",a)"
   ]
  },
  {
   "cell_type": "code",
   "execution_count": 22,
   "id": "b4895b9c",
   "metadata": {},
   "outputs": [
    {
     "data": {
      "text/plain": [
       "array([[1., 0., 0.],\n",
       "       [0., 1., 0.],\n",
       "       [0., 0., 1.]])"
      ]
     },
     "execution_count": 22,
     "metadata": {},
     "output_type": "execute_result"
    }
   ],
   "source": [
    "#ones nd identity matrix\n",
    "np.eye(3)"
   ]
  },
  {
   "cell_type": "code",
   "execution_count": 25,
   "id": "cb67f94a",
   "metadata": {},
   "outputs": [
    {
     "data": {
      "text/plain": [
       "array([[1., 1., 1.],\n",
       "       [1., 1., 1.],\n",
       "       [1., 1., 1.]])"
      ]
     },
     "execution_count": 25,
     "metadata": {},
     "output_type": "execute_result"
    }
   ],
   "source": [
    "np.ones((3,3))"
   ]
  },
  {
   "cell_type": "code",
   "execution_count": 27,
   "id": "7615ac2b",
   "metadata": {},
   "outputs": [],
   "source": [
    "np.arange?"
   ]
  },
  {
   "cell_type": "code",
   "execution_count": 29,
   "id": "92f48283",
   "metadata": {},
   "outputs": [
    {
     "name": "stdout",
     "output_type": "stream",
     "text": [
      "[ 1  6 11 16 21 26]\n"
     ]
    }
   ],
   "source": [
    "#want to create a seq from 1 to 30 with steps 5\n",
    "f = np.arange(1,30,5)\n",
    "print(f)"
   ]
  },
  {
   "cell_type": "code",
   "execution_count": 30,
   "id": "3297971f",
   "metadata": {},
   "outputs": [
    {
     "name": "stdout",
     "output_type": "stream",
     "text": [
      "[ 1.          4.22222222  7.44444444 10.66666667 13.88888889 17.11111111\n",
      " 20.33333333 23.55555556 26.77777778 30.        ]\n"
     ]
    }
   ],
   "source": [
    "#want to create a seq from 1 to 30 with no of values 10\n",
    "f = np.linspace(1,30,10)\n",
    "print(f)"
   ]
  },
  {
   "cell_type": "code",
   "execution_count": 37,
   "id": "8e234617",
   "metadata": {},
   "outputs": [
    {
     "name": "stdout",
     "output_type": "stream",
     "text": [
      "[0.38797057 0.90121166]\n",
      "[[0.05309531 0.45618322 0.87553174]\n",
      " [0.75551171 0.49644213 0.42146864]]\n"
     ]
    }
   ],
   "source": [
    "# random values\n",
    "a = np.random.random((2))\n",
    "print(a)\n",
    "b = np.random.random((2,3))\n",
    "print(b)"
   ]
  },
  {
   "cell_type": "code",
   "execution_count": 42,
   "id": "05f2163f",
   "metadata": {},
   "outputs": [
    {
     "name": "stdout",
     "output_type": "stream",
     "text": [
      "[[ 1  2  3]\n",
      " [ 4  5  6]\n",
      " [ 7  7 23]\n",
      " [24 56  0]]\n",
      "[[[ 1  2  3]\n",
      "  [ 4  5  6]]\n",
      "\n",
      " [[ 7  7 23]\n",
      "  [24 56  0]]]\n"
     ]
    }
   ],
   "source": [
    "# reshape the array\n",
    "arr = np.array([[1,2,3,4],[5,6,7,7],[23,24,56,0]])\n",
    "new_arr = arr.reshape((4,3))\n",
    "print(new_arr)\n",
    "new_arr = arr.reshape((2,2,3))\n",
    "print(new_arr)"
   ]
  },
  {
   "cell_type": "code",
   "execution_count": 43,
   "id": "eb667d74",
   "metadata": {},
   "outputs": [
    {
     "data": {
      "text/plain": [
       "array([ 1,  2,  3,  4,  5,  6,  7,  7, 23, 24, 56,  0])"
      ]
     },
     "execution_count": 43,
     "metadata": {},
     "output_type": "execute_result"
    }
   ],
   "source": [
    "# flattened array \n",
    "new_arr.flatten()"
   ]
  },
  {
   "cell_type": "code",
   "execution_count": 46,
   "id": "02f0eecb",
   "metadata": {},
   "outputs": [
    {
     "name": "stdout",
     "output_type": "stream",
     "text": [
      "[[1 2]\n",
      " [4 5]]\n"
     ]
    }
   ],
   "source": [
    "# SLICING AND INDEXING WORK IN NUMPY\n",
    "# arr[[row:row],[col,col]]\n",
    "arr =np.array([[ 1 , 2 , 3],\n",
    " [ 4 , 5 , 6],\n",
    " [ 7 , 7 ,23],\n",
    " [24 ,56 , 0]])\n",
    "print(arr[0:2,0:2])\n"
   ]
  },
  {
   "cell_type": "code",
   "execution_count": 47,
   "id": "24dbbc6b",
   "metadata": {},
   "outputs": [
    {
     "name": "stdout",
     "output_type": "stream",
     "text": [
      "[[1 2 4 5]\n",
      " [3 4 5 6]\n",
      " [6 5 7 4]]\n"
     ]
    }
   ],
   "source": [
    "# skiping some values\n",
    "arr=np.array([[1,2,4,5],[3,4,5,6],[6,5,7,4]])\n",
    "print(arr)"
   ]
  },
  {
   "cell_type": "code",
   "execution_count": 48,
   "id": "897e5d9f",
   "metadata": {},
   "outputs": [
    {
     "name": "stdout",
     "output_type": "stream",
     "text": [
      "[[1 4]\n",
      " [3 5]\n",
      " [6 7]]\n"
     ]
    }
   ],
   "source": [
    "print(arr[0:,0::2])"
   ]
  },
  {
   "cell_type": "code",
   "execution_count": 51,
   "id": "3ac3539b",
   "metadata": {},
   "outputs": [
    {
     "name": "stdout",
     "output_type": "stream",
     "text": [
      "[[2 5]\n",
      " [4 6]\n",
      " [5 4]]\n"
     ]
    }
   ],
   "source": [
    "print(arr[0:,1::2])"
   ]
  },
  {
   "cell_type": "code",
   "execution_count": 52,
   "id": "2c4fef78",
   "metadata": {},
   "outputs": [
    {
     "name": "stdout",
     "output_type": "stream",
     "text": [
      "[[1 4]\n",
      " [6 7]]\n"
     ]
    }
   ],
   "source": [
    "print(arr[0::2,0::2])"
   ]
  },
  {
   "cell_type": "code",
   "execution_count": 53,
   "id": "db4885c2",
   "metadata": {},
   "outputs": [
    {
     "name": "stdout",
     "output_type": "stream",
     "text": [
      "element greater than 0: [1 2 4 5 3 4 5 6 6 5 7 4]\n"
     ]
    }
   ],
   "source": [
    "#boolean array indexing\n",
    "cond = arr>0\n",
    "temp = arr[cond]\n",
    "print(\"element greater than 0:\",temp)"
   ]
  },
  {
   "cell_type": "code",
   "execution_count": 56,
   "id": "409b59a5",
   "metadata": {},
   "outputs": [
    {
     "name": "stdout",
     "output_type": "stream",
     "text": [
      "[[1 2 4 5]\n",
      " [3 4 5 6]\n",
      " [6 5 7 4]]\n",
      "[[2 3 5 6]\n",
      " [4 5 6 7]\n",
      " [7 6 8 5]]\n",
      "[[ 2  4  8 10]\n",
      " [ 6  8 10 12]\n",
      " [12 10 14  8]]\n"
     ]
    }
   ],
   "source": [
    "# broadcasting the array\n",
    "print(arr)\n",
    "print(arr+1)\n",
    "print(arr*2)"
   ]
  },
  {
   "cell_type": "code",
   "execution_count": 57,
   "id": "99921f01",
   "metadata": {},
   "outputs": [
    {
     "name": "stdout",
     "output_type": "stream",
     "text": [
      "[[1 3 6]\n",
      " [2 4 5]\n",
      " [4 5 7]\n",
      " [5 6 4]]\n"
     ]
    }
   ],
   "source": [
    "#taking transpose of array\n",
    "print(arr.T)"
   ]
  },
  {
   "cell_type": "code",
   "execution_count": 58,
   "id": "b077819e",
   "metadata": {},
   "outputs": [
    {
     "name": "stdout",
     "output_type": "stream",
     "text": [
      "[[1 2 4 5]\n",
      " [3 4 5 6]\n",
      " [6 5 7 4]]\n",
      "maximum ele 7\n",
      "maximum in particular row [5 6 7]\n",
      "maximum in particular col [6 5 7 6]\n"
     ]
    }
   ],
   "source": [
    "# function\n",
    "\n",
    "print(arr)\n",
    "print(\"maximum ele\",arr.max())\n",
    "print(\"maximum in particular row\",arr.max(axis=1))\n",
    "print(\"maximum in particular col\",arr.max(axis=0))\n"
   ]
  },
  {
   "cell_type": "code",
   "execution_count": 59,
   "id": "64c3b311",
   "metadata": {},
   "outputs": [],
   "source": [
    "#similarly min(),sum(),cumsum()"
   ]
  },
  {
   "cell_type": "code",
   "execution_count": 63,
   "id": "40d4a196",
   "metadata": {},
   "outputs": [
    {
     "name": "stdout",
     "output_type": "stream",
     "text": [
      "[[2 4]\n",
      " [4 6]]\n",
      "[[1 4]\n",
      " [4 9]]\n",
      "[[ 5  8]\n",
      " [ 8 13]]\n"
     ]
    }
   ],
   "source": [
    "#BINARY OPERATIONS\n",
    "atemp= np.array([[1,2],[2,3]])\n",
    "btemp= np.array([[1,2],[2,3]])\n",
    "#add\n",
    "print(atemp+btemp)\n",
    "#multiply\n",
    "print(atemp*btemp)\n",
    "#matrix multiplication\n",
    "print(atemp.dot(btemp))"
   ]
  },
  {
   "cell_type": "code",
   "execution_count": 66,
   "id": "0236fab9",
   "metadata": {},
   "outputs": [
    {
     "name": "stdout",
     "output_type": "stream",
     "text": [
      "[[1 2 4 5]\n",
      " [3 4 5 6]\n",
      " [6 5 7 4]]\n",
      "sorting along row: [[1 2 4 5]\n",
      " [3 4 5 6]\n",
      " [4 5 6 7]]\n"
     ]
    }
   ],
   "source": [
    "print(arr)\n",
    "#sort the array\n",
    "print(\"sorting along row:\",np.sort(arr,axis=1))"
   ]
  },
  {
   "cell_type": "code",
   "execution_count": 5,
   "id": "285ba3bd",
   "metadata": {},
   "outputs": [
    {
     "name": "stdout",
     "output_type": "stream",
     "text": [
      "Reshape the array [[[1 2 4]\n",
      "  [5 3 4]]\n",
      "\n",
      " [[5 6 6]\n",
      "  [5 7 4]]]\n"
     ]
    }
   ],
   "source": [
    "import numpy as np\n",
    "arr=np.array([[1,2,4,5],\n",
    " [3,4,5,6],\n",
    " [6,5,7,4]])\n",
    "newarr=arr.reshape(2,2,3)\n",
    "print(\"Reshape the array\",newarr)"
   ]
  },
  {
   "cell_type": "code",
   "execution_count": 8,
   "id": "04af2f8d",
   "metadata": {},
   "outputs": [
    {
     "name": "stdout",
     "output_type": "stream",
     "text": [
      "Vertical stacking [[ 1  2]\n",
      " [ 3  4]\n",
      " [11 22]\n",
      " [33 44]]\n",
      "Horizontal stacking [[ 1  2 11 22]\n",
      " [ 3  4 33 44]]\n",
      "Column stack [[1 2 5]\n",
      " [3 4 6]]\n",
      "Concatenation to 2nd axis  [[ 1  2 11 22]\n",
      " [ 3  4 33 44]]\n"
     ]
    }
   ],
   "source": [
    "#stacking and splitting\n",
    "a = np.array([[1,2],[3,4]])\n",
    "b = np.array([[11,22],[33,44]])\n",
    "print(\"Vertical stacking\",np.vstack((a,b)))\n",
    "print(\"Horizontal stacking\",np.hstack((a,b)))\n",
    "c=[5,6]\n",
    "print(\"Column stack\",np.column_stack((a,c)))\n",
    "print(\"Concatenation to 2nd axis \",np.concatenate((a,b),1))"
   ]
  },
  {
   "cell_type": "code",
   "execution_count": 9,
   "id": "3122e812",
   "metadata": {},
   "outputs": [
    {
     "name": "stdout",
     "output_type": "stream",
     "text": [
      "Splitting along horizontal axis into 2 parts: [array([[1, 2, 3],\n",
      "       [2, 4, 6]]), array([[ 7,  9, 11],\n",
      "       [ 8, 10, 12]])]\n",
      "Splitting along vertical axis into 2 parts: [array([[ 1,  2,  3,  7,  9, 11]]), array([[ 2,  4,  6,  8, 10, 12]])]\n"
     ]
    }
   ],
   "source": [
    "a = np.array([[1,2,3,7,9,11],[2,4,6,8,10,12]])\n",
    "\n",
    "print(\"Splitting along horizontal axis into 2 parts:\",np.hsplit(a,2))\n",
    "\n",
    "print(\"Splitting along vertical axis into 2 parts:\",np.vsplit(a,2))\n"
   ]
  },
  {
   "cell_type": "code",
   "execution_count": 10,
   "id": "0fa27f0c",
   "metadata": {},
   "outputs": [
    {
     "name": "stdout",
     "output_type": "stream",
     "text": [
      "[[1 2 3 4]\n",
      " [7 6 2 0]]\n",
      "0\n",
      "[1 2 2 0]\n",
      "[1 0]\n"
     ]
    }
   ],
   "source": [
    "#SOME MORE NUMPY FUNCTIONS - STATISTICS\n",
    "a = np.array([[1,2,3,4],[7,6,2,0]])\n",
    "print(a)\n",
    "print(np.min(a))\n",
    "#specifying the axis\n",
    "print(np.min(a,axis=0))\n",
    "print(np.min(a,axis=1))\n"
   ]
  },
  {
   "cell_type": "code",
   "execution_count": 13,
   "id": "9a74fb4f",
   "metadata": {},
   "outputs": [
    {
     "name": "stdout",
     "output_type": "stream",
     "text": [
      "3.0\n",
      "3.0\n",
      "3.0\n",
      "[2.5  3.75]\n"
     ]
    }
   ],
   "source": [
    "#MEAN \n",
    "b = np.array([1,2,3,4,5])\n",
    "n = sum(b)/5\n",
    "print(n)\n",
    "\n",
    "print(np.mean(b))\n",
    "print(np.mean(b,axis=0))\n",
    "print(np.mean(a,axis=1))"
   ]
  },
  {
   "cell_type": "code",
   "execution_count": 15,
   "id": "048b2867",
   "metadata": {},
   "outputs": [
    {
     "name": "stdout",
     "output_type": "stream",
     "text": [
      "2.0\n",
      "2.4\n",
      "2.4\n",
      "[1.4 2.6 1.6 0.4 2.4]\n",
      "1.854723699099141\n",
      "[1.96 6.76 2.56 0.16 5.76]\n",
      "3.4400000000000004\n"
     ]
    }
   ],
   "source": [
    "#MEDIAN\n",
    "c = np.array([1,5,4,2,0])\n",
    "print(np.median(c))\n",
    "\n",
    "#mean vs average is weighted\n",
    "print(np.mean(c))\n",
    "\n",
    "#weights-\n",
    "w = np.array([1,1,1,1,1])\n",
    "print(np.average(c,weights=w))\n",
    "\n",
    "#weighted mean => n1*w1 + n2*w2 / n1+n2\n",
    "\n",
    "#Standard Deviation\n",
    "u = np.mean(c)\n",
    "myStd = np.sqrt((abs(c-u)**2))\n",
    "print(myStd)\n",
    "\n",
    "#inbuilt Function\n",
    "dev = np.std(c)\n",
    "print(dev)\n",
    "\n",
    "#variance\n",
    "print(myStd**2)\n",
    "print(np.var(c))"
   ]
  },
  {
   "cell_type": "code",
   "execution_count": null,
   "id": "8ff3d4a6",
   "metadata": {},
   "outputs": [],
   "source": [
    "#rand\n",
    "#randn\n",
    "#randint\n",
    "#random\n",
    "#choice\n",
    "#shuffle"
   ]
  }
 ],
 "metadata": {
  "kernelspec": {
   "display_name": "Python 3 (ipykernel)",
   "language": "python",
   "name": "python3"
  },
  "language_info": {
   "codemirror_mode": {
    "name": "ipython",
    "version": 3
   },
   "file_extension": ".py",
   "mimetype": "text/x-python",
   "name": "python",
   "nbconvert_exporter": "python",
   "pygments_lexer": "ipython3",
   "version": "3.11.5"
  }
 },
 "nbformat": 4,
 "nbformat_minor": 5
}
